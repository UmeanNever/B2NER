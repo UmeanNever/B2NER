{
 "cells": [
  {
   "cell_type": "code",
   "execution_count": 18,
   "metadata": {},
   "outputs": [
    {
     "name": "stderr",
     "output_type": "stream",
     "text": [
      "Loading checkpoint shards: 100%|██████████| 2/2 [00:01<00:00,  1.27it/s]\n"
     ]
    }
   ],
   "source": [
    "import torch\n",
    "from peft import PeftModel, PeftConfig\n",
    "from transformers import AutoModelForCausalLM, AutoTokenizer\n",
    "\n",
    "# Load the base model and tokenizer, use your own path/name\n",
    "base_model_path = \"/mnt/data/user/yang_yuming/data/Models/internlm2_5-7b\"\n",
    "base_model = AutoModelForCausalLM.from_pretrained(base_model_path, \n",
    "                                                  trust_remote_code=True, torch_dtype=torch.float16)\n",
    "tokenizer = AutoTokenizer.from_pretrained(base_model_path, trust_remote_code=True)\n",
    "\n",
    "# Load and apply the PEFT model, point weight path to your own directory where an adapter_config.json is located\n",
    "lora_weight_path = \"/mnt/data/user/yang_yuming/proj2023/UOpenFS/B2NER/output/MLV2-InternLM2_5-0s/7B+b2ner+bs128+32/checkpoint-3057\"\n",
    "config = PeftConfig.from_pretrained(lora_weight_path)\n",
    "model = PeftModel.from_pretrained(base_model, lora_weight_path, torch_dtype=torch.bfloat16)"
   ]
  },
  {
   "cell_type": "code",
   "execution_count": 20,
   "metadata": {},
   "outputs": [
    {
     "name": "stdout",
     "output_type": "stream",
     "text": [
      " 组织机构名->公司: 暴雪中国; 人名: Moon; 作品名->游戏作品: 星际争霸2; 人名: Infi\n"
     ]
    }
   ],
   "source": [
    "## Chinese Example ##\n",
    "# Input your own text and target entity labels. The model will extract entities inside provided label set from text.\n",
    "text = \"暴雪中国时隔多年之后再次举办了官方比赛，而Moon在星际争霸2中发挥不是很理想，对此Infi感觉Moon是哪里出了问题呢？\"\n",
    "labels = [\"人名\", \"作品名->文字作品\", \"作品名->游戏作品\", \"作品名->影像作品\", \"组织机构名->政府机构\", \"组织机构名->公司\", \"组织机构名->其它\", \"地名\"]\n",
    "\n",
    "# Prepare the instruction\n",
    "instruction_template_zh = \"给定实体的标签范围，请识别文本中属于这些标签的所有实体。答案格式为 \\\"实体标签: 实体; 实体标签: 实体\\\"。\\n标签范围: {labels_str}\\n\\n文本: {text} \\n答案:\"\n",
    "labels_str = \", \".join(labels)\n",
    "final_instruction = instruction_template_zh.format(labels_str=labels_str, text=text)\n",
    "\n",
    "# Tokenize the input text\n",
    "inputs = tokenizer([final_instruction], return_tensors=\"pt\")\n",
    "\n",
    "# Generate answers\n",
    "output = model.generate(**inputs, max_length=500)\n",
    "\n",
    "# Decode the output\n",
    "generated_text = tokenizer.decode(output[0].tolist(), skip_special_tokens=True)\n",
    "print(generated_text.split(\"答案:\")[-1])\n",
    "# 组织机构名->公司: 暴雪中国; 人名: Moon; 作品名->游戏作品: 星际争霸2; 人名: Infi"
   ]
  },
  {
   "cell_type": "code",
   "execution_count": 17,
   "metadata": {},
   "outputs": [
    {
     "name": "stdout",
     "output_type": "stream",
     "text": [
      " year or time period: 1990 s; movie genre: romance; movie actor: kelsy grammer\n"
     ]
    }
   ],
   "source": [
    "## English Example ##\n",
    "# Input your own text and target entity labels. The model will extract entities inside provided label set from text.\n",
    "text = \"what is a good 1990 s romance movie starring kelsy grammer\"\n",
    "labels = [\"movie genre\", \"year or time period\", \"movie title\", \"movie actor\", \"movie age rating\"]\n",
    "\n",
    "# Prepare the instruction\n",
    "instruction_template_en = \"Given the label set of entities, please recognize all the entities in the text. The answer format should be \\\"entity label: entity; entity label: entity\\\". \\nLabel Set: {labels_str} \\n\\nText: {text} \\nAnswer:\"\n",
    "labels_str = \", \".join(labels)\n",
    "final_instruction = instruction_template_en.format(labels_str=labels_str, text=text)\n",
    "\n",
    "# Tokenize the input text\n",
    "inputs = tokenizer([final_instruction], return_tensors=\"pt\")\n",
    "\n",
    "# Generate answers\n",
    "output = model.generate(**inputs, max_length=500)\n",
    "\n",
    "# Decode the output\n",
    "generated_text = tokenizer.decode(output[0].tolist(), skip_special_tokens=True)\n",
    "print(generated_text.split(\"Answer:\")[-1])\n",
    "# year or time period: 1990 s; movie genre: romance; movie actor: kelsy grammer"
   ]
  }
 ],
 "metadata": {
  "kernelspec": {
   "display_name": "ufs",
   "language": "python",
   "name": "python3"
  },
  "language_info": {
   "codemirror_mode": {
    "name": "ipython",
    "version": 3
   },
   "file_extension": ".py",
   "mimetype": "text/x-python",
   "name": "python",
   "nbconvert_exporter": "python",
   "pygments_lexer": "ipython3",
   "version": "3.11.0"
  }
 },
 "nbformat": 4,
 "nbformat_minor": 2
}
